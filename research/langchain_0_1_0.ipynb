{
 "cells": [
  {
   "cell_type": "code",
   "execution_count": 1,
   "metadata": {},
   "outputs": [
    {
     "data": {
      "text/plain": [
       "4"
      ]
     },
     "execution_count": 1,
     "metadata": {},
     "output_type": "execute_result"
    }
   ],
   "source": [
    "2+2"
   ]
  },
  {
   "cell_type": "code",
   "execution_count": 2,
   "metadata": {},
   "outputs": [
    {
     "data": {
      "text/plain": [
       "AIMessage(content='Lord Ram Temple, also known as Ram Janmabhoomi, is located in Ayodhya, a city in the state of Uttar Pradesh in India.')"
      ]
     },
     "execution_count": 2,
     "metadata": {},
     "output_type": "execute_result"
    }
   ],
   "source": [
    "from langchain_openai import ChatOpenAI\n",
    "from constants import OPENAI_KEY\n",
    "\n",
    "llm = ChatOpenAI(openai_api_key=OPENAI_KEY, temperature=0.7)\n",
    "llm.invoke(\"Where is Lord Ram Temple located?\")"
   ]
  },
  {
   "cell_type": "code",
   "execution_count": 4,
   "metadata": {},
   "outputs": [
    {
     "data": {
      "text/plain": [
       "AIMessage(content='Lord Ram Temple, also known as the Ram Janmabhoomi Temple, is located in Ayodhya, Uttar Pradesh, India.')"
      ]
     },
     "execution_count": 4,
     "metadata": {},
     "output_type": "execute_result"
    }
   ],
   "source": [
    "## Prompt templates are used to convert raw user input to a better input to the LLM.\n",
    "\n",
    "from langchain_core.prompts import ChatPromptTemplate\n",
    "\n",
    "prompt = ChatPromptTemplate.from_messages([\n",
    "    (\"system\", \"You are world class technical documentation writer.\"),\n",
    "    (\"user\", \"{input}\")\n",
    "])\n",
    "\n",
    "# We can now combine these into a simple LLM chain\n",
    "chain = prompt | llm \n",
    "\n",
    "chain.invoke({\"input\": \"Where is Lord Ram Temple located?\"})\n",
    "\n"
   ]
  },
  {
   "cell_type": "code",
   "execution_count": 5,
   "metadata": {},
   "outputs": [
    {
     "data": {
      "text/plain": [
       "'The Lord Ram Temple, also known as the Ram Janmabhoomi Temple, is located in the city of Ayodhya in the state of Uttar Pradesh, India. It is situated on the banks of the Sarayu River. The temple is believed to be built at the exact spot where Lord Ram was born.'"
      ]
     },
     "execution_count": 5,
     "metadata": {},
     "output_type": "execute_result"
    }
   ],
   "source": [
    "## Output parser to convert the chat message to a string.\n",
    "from langchain_core.output_parsers import StrOutputParser\n",
    "output_parser = StrOutputParser()\n",
    "\n",
    "# We can now combine these into a simple LLM chain\n",
    "chain = prompt | llm | output_parser\n",
    "chain.invoke({\"input\": \"Where is Lord Ram Temple located?\"})\n"
   ]
  },
  {
   "cell_type": "code",
   "execution_count": null,
   "metadata": {},
   "outputs": [],
   "source": []
  }
 ],
 "metadata": {
  "kernelspec": {
   "display_name": "Python 3",
   "language": "python",
   "name": "python3"
  },
  "language_info": {
   "codemirror_mode": {
    "name": "ipython",
    "version": 3
   },
   "file_extension": ".py",
   "mimetype": "text/x-python",
   "name": "python",
   "nbconvert_exporter": "python",
   "pygments_lexer": "ipython3",
   "version": "3.11.7"
  }
 },
 "nbformat": 4,
 "nbformat_minor": 2
}
