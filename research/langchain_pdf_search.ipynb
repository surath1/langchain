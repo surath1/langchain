{
 "cells": [
  {
   "cell_type": "code",
   "execution_count": 1,
   "metadata": {},
   "outputs": [],
   "source": [
    "from langchain_openai import ChatOpenAI\n",
    "from constants import OPENAI_KEY\n",
    "import os\n",
    "os.environ[\"OPENAI_API_KEY\"] = OPENAI_KEY\n",
    "\n",
    "llm = ChatOpenAI(openai_api_key=OPENAI_KEY, model_name=\"gpt-3.5-turbo-1106\", temperature=0.7)\n"
   ]
  },
  {
   "cell_type": "code",
   "execution_count": 3,
   "metadata": {},
   "outputs": [
    {
     "data": {
      "text/plain": [
       "'The father of Barack Obama is Barack Obama Sr.'"
      ]
     },
     "execution_count": 3,
     "metadata": {},
     "output_type": "execute_result"
    }
   ],
   "source": [
    "llm.predict(\"what is the father of barak obama?\")"
   ]
  },
  {
   "cell_type": "code",
   "execution_count": 6,
   "metadata": {},
   "outputs": [
    {
     "data": {
      "text/plain": [
       "AIMessage(content=\"Of course, I'd be happy to help! Can you please provide more details about what you need assistance with?\")"
      ]
     },
     "execution_count": 6,
     "metadata": {},
     "output_type": "execute_result"
    }
   ],
   "source": [
    "llm.invoke(\"help\")"
   ]
  },
  {
   "cell_type": "code",
   "execution_count": 48,
   "metadata": {},
   "outputs": [],
   "source": [
    "from langchain.text_splitter import RecursiveCharacterTextSplitter\n",
    "from langchain_community.vectorstores import FAISS\n",
    "from langchain_openai import OpenAIEmbeddings\n",
    "from PyPDF2 import PdfReader\n",
    "\n",
    "embeddings = OpenAIEmbeddings(openai_api_key=OPENAI_KEY)\n"
   ]
  },
  {
   "cell_type": "code",
   "execution_count": 32,
   "metadata": {},
   "outputs": [],
   "source": [
    "reader = PdfReader(\"D:\\youtube\\langchain\\FDIO.pdf\")"
   ]
  },
  {
   "cell_type": "code",
   "execution_count": 38,
   "metadata": {},
   "outputs": [],
   "source": [
    "text = \"\"\n",
    "reader = PdfReader(\"D:\\youtube\\langchain\\FDIO.pdf\")\n",
    "for i, page in enumerate(reader.pages):\n",
    "    content = page.extract_text()\n",
    "    if content:\n",
    "        text += content\n",
    "        #print(i)"
   ]
  },
  {
   "cell_type": "code",
   "execution_count": 36,
   "metadata": {},
   "outputs": [
    {
     "data": {
      "text/plain": [
       "'Identify your budget as a critical \\ntool in greater profitability and \\nbusiness success Building a Good Budget  \\uf0a7At the end of this module, you will be able to:  \\n–Identify the importance of building a budget as a critical tool for your success.  \\n–Use a budget to effectively manage your business. \\n–Identify best practices to create and maintain your budget. Learning Objectives \\n2 FDIC OMWI Education Module: Building a Good Budget \\uf0a7The Federal Deposit Insurance Corporation ( FDIC) recognizes the \\nimportant contributions made by small, veteran, and minority and \\nwomen -owned businesses to our economy. For that reason, we strive to \\nprovide small businesses with opportunities to contract with the FDIC. In furtherance of this goal, the FDIC has initiated the FDIC Small Business Resource Effort to assist the small vendors that provide products, services, \\nand solutions to the FDIC.  \\n\\uf0a7The objective of the Small Business Resource Effort is to provide \\ninformation and the tools small vendors need to become better positioned to compete for contracts and subcontracts at the FDIC. To achieve this objective, the Small Business Resource Effort references outside resources critical for qualified vendors, leverages technology to provide education according to perceived needs, and offers connectivity \\nthrough resourcing, accessibility, counseling, coaching, and guidance \\nwhere applicable.  \\n\\uf0a7This product was developed by the FDIC Office of Minority and Women Inclusion (OMWI). OMWI has responsibility for oversight of the Small Business Resource Effort.   About FDIC Small Business \\nResource Effort  \\n3 FDIC OMWI Education Module: Building a Good Budget \\uf0a7A business budget is a financial roadmap to success, a vision of where you \\nwant to take your business for the upcoming 12 months.  \\n\\uf0a7A budget helps you measure success; it tells you where your business is working and where it might be veering off course.  \\n\\uf0a7Best practices can help you to successfully build and maintain a budget and, ultimately, increase your company’ s profitability.  Executive Summary \\n4 FDIC OMWI Education Module: Building a Good Budget \\uf0a7A budget is a plan for revenues, expenses, and profit over a certain period \\nof time. It should be part of your overall business plan. \\n\\uf0a7Typically an annual budget is developed and broken down by quarters, months, or weeks. Software is available to help maintain your budget, e.g., Quicken or Microsoft Money.  \\n\\uf0a7A budget is your financial projection of your business (based on current assumptions) taken as a snapshot at a point in time. \\n\\uf0a7Research has shown that having a budget:  \\n–Allows you to run your business instead of your business always running you. \\n–Enables you to see if you have a cash flow or spending problem, especially if \\nyou track your costs and income daily. \\n–Gives you a greater sense of control because you can better deal with financial issues as they arise.  What is a Budget? \\n5 FDIC OMWI Education Module: Building a Good Budget \\uf0a7Business budgets are “balanced, ”e.g., revenues minus expenses equals \\nprofit/net income.  \\n\\uf0a7The best budgets use the “nuts and bolts ” operational data that you deal \\nwith every day in running your business:  \\n–Revenue examples: # and size of sales, # of billable hours at average $ rates, # \\nof customers, and average $ order sizes, etc. \\n–Expense examples: # of employees at average $ hourly rates, # of materials used at average $ cost, rent/mortgage payment, and # of ad campaigns at average $ cost, etc.  \\n\\uf0a7Take into account your fixed costs (rent, overhead, loan payments, etc.) \\nversus your variable costs (labor and materials per product or service hour) to understand where your costs are, and how flexible your budget is. \\n\\uf0a7Typically, expense budgets are more easily created than revenue budgets because your commitments are known quantities. \\n\\uf0a7Be conservative when budgeting revenues. Include a small amount of contingency for unexpected expenses to increase your chances of maintaining a positive cash flow.  \\n Budget Fundamentals (Slide 1 of 2)  \\n6 FDIC OMWI Education Module: Building a Good Budget \\uf0a7Budget your revenues on a cash basis, e.g., budget revenues in the period \\nyou will receive payment, not the period in which you performed the work or sold the goods.  \\n\\uf0a7Build your budget using the day-to -day information you use to run your \\nbusiness.  \\n\\uf0a7Use your budget regularly as a roadmap to operate your business. \\n\\uf0a7Factor in some extra padding. Having a safety net will provide some comfort during a slow week or month. \\n\\uf0a7Share your budget with your staff. If they know what the business goals are, they can help you get there. Often the best ideas for improvements come from the people closest to the work.  Budget Fundamentals (Slide 2 of 2)  \\n7 FDIC OMWI Education Module: Building a Good Budget \\uf0a7A budget is critical for five primary reasons:  \\n1.Helps you predict cash flows and avoid surprises. \\n2.Shows your banker/investors how you plan to pay back a future loan. \\n3.Quickly highlights areas that need improvement. \\n4.Helps you keep your operations running smoothly. \\n5.Helps you project the future and take actionable steps. Why is a Budget So  \\nCritical to Your Success? \\n8 FDIC OMWI Education Module: Building a Good Budget \\uf0a7Because you build a budget from your forecasted operational data, it \\nincludes the expected ups and downs (seasonality) in your revenues and expenses.  \\n\\uf0a7A budget is especially helpful if:  \\n–You have alternating slow/busy seasons. \\n–Your revenue stream comes in huge chunks followed by long periods of no \\nrevenue.  \\n–You have expenses that vary greatly month to month. \\n\\uf0a7By knowing when you will have excess cash and when you will have more \\nexpenses than cash coming in, you can plan for when your cash levels will be low.  \\n 1. Helps You Predict Cash  \\nFlows and Avoid Surprises \\n9 FDIC OMWI Education Module: Building a Good Budget \\uf0a7A budget signals to potential lenders that you have planned and know \\nwhat it will take to pay a loan back in a timely fashion.  \\n\\uf0a7A budget also gives lenders something to react to; an underwriter will compare your revenue and expense plans to industry norms to see if they are reasonable.  \\n\\uf0a7Lenders are not likely to loan you money unless you have a payback plan (i.e., a budget) backed up by reasonable facts. \\n 2. Demonstrates Loan \\nRepayment Strategy \\n10 FDIC OMWI Education Module: Building a Good Budget \\uf0a7Use your annual budget to compare actual revenues and expenses every \\nmonth. \\n–For large variances: either revise your estimate (both revenues and expenses) \\nor take actions to influence your company ’s performance. For example, if \\nrevenues are falling short of the budget, and you cannot raise them, then you \\nwill have to cut expenses to meet your profitability goals. \\n–For small variances: watch them over time and make sure that they do not \\nlead to a large variance or a budget miss. \\n\\uf0a7Revise your budget to take into account major changes in your business, \\nbut remember to keep it balanced. \\n \\n 3. Quickly Highlights Areas  \\nThat Need Improvement  \\n11 FDIC OMWI Education Module: Building a Good Budget \\uf0a7Because the budget is built by using operational metrics, the two should \\nalways be in sync; if you have a variance to budget, then something in your operations is driving the change.  \\n\\uf0a7If your revenues are under budget, take a look at the data you used to build the budget.  \\n\\uf0a7For a service company:  \\n–Number of services performed by type: How many are you actually performing \\neach month? How long are they taking? Has the mix changed?  \\n–Average price of service: What price are you actually charging for the service?  \\n–Assume payments are received within 30 days of the invoice: How quickly are invoices being sent? How quickly are customers sending in payments?  \\n\\uf0a7You might need to make operational adjustments such as:  \\n–Retraining staff   \\n–Adjusting pricing   \\n–Enforcing payment terms more stringently  \\n–Improving invoice processing  4. Helps You Run Your \\nOperations Smoothly \\n12 FDIC OMWI Education Module: Building a Good Budget \\uf0a7A solid budget helps you answer the following questions:  \\n–If demand for your business is growing, and you are reaching the limits of your \\nexisting staff, how do you know when to add that next employee?  \\n–If customers want more of a selection of your products, how much more inventory can you afford to carry?  \\n–If you want to offer another service at a fair price and make a decent return, but an upfront initial investment needs to be made, when is the best time to make the investment and expand your service offerings?  5. Helps You Project the  \\nFuture & Take Actionable Steps \\n13 FDIC OMWI Education Module: Building a Good Budget \\uf0a7Create manageable and meaningful categories of revenues and expenses; \\nthey should mirror how you currently track income and expense. \\n\\uf0a7Use the category size (% of the total) to decide if you should break the category down further.  \\n–Categories that are more than 50% of the total should be broken down. \\n–Categories that are less than 2% of the total should be combined with similar \\nrevenues or expenses.  \\n\\uf0a7Check your budget against your industry’s  financial information to see if \\nyour business is in line with industry averages; if not, find out why or make \\nnecessary adjustments.  \\n Things to Keep in Mind  \\nAs You Create a Budget  \\n14 FDIC OMWI Education Module: Building a Good Budget \\uf0a7As you create your budget, look for ways to save money, such as:  \\n–Buy necessary office supplies in bulk at discount warehouses.  \\n–Purchase used office furniture. \\n–Buy locally to save on shipping. \\n–Don’t buy something just because it’s cheap. If the quality is inferior, you’ll \\nhave to spend more money eventually to replace it. \\n–Shop around for vendors/suppliers that offer the best price for the best quality. \\n–Network with other small business owners:  \\n•They may be willing to barter for services.  \\n•They may be interested in going in with you to buy bulk products. \\n–Ask vendors/suppliers for a better price. They may tell you no, but they may tell you yes, too.  \\n–Bundle services, such as phone, internet, cable/satellite, fax, web hosting. \\n Look for Potential Cost Savings \\n(Slide 1 of 2)  \\n15 FDIC OMWI Education Module: Building a Good Budget –Go paperless or digital and save on the cost of paper and printer cartridges. \\nAlso consider:  \\n•Paying bills online to save postage fees. \\n•Scanning documents you need to save to save physical storage fees.  \\n•Receiving email faxes to save paper and printer fees. \\n–Use cloud services to back -up your data, access your data at any location, or \\nshare data with multiple people. If cloud services are not for you, consider investing in a computer back -up system. The initial cost may be high, but it will \\nsave time and money if you don’t have to recreate your work due to a computer malfunction.  \\n–Recycle shipping boxes. \\n–Consider using social media (Twitter, Facebook, LinkedIn) for marketing your services. Be mindful that while there is no cost initially, you will need to spend considerable time maintaining these services for them to be effective. \\n \\n \\n Look for Potential Cost Savings \\n(Slide 2 of 2)  \\n16 FDIC OMWI Education Module: Building a Good Budget \\uf0a7Creating a solid budget by using key operational data you use to run your \\nbusiness will help you make crucial decisions about your business. \\n\\uf0a7Comparing your actual financial results against your budget every  week \\nand tracking the variances is extremely important.  \\n\\uf0a7Tracking and using your actual versus budget variances will help drive improvements and plans for the future. Key Takeaways from This \\nModule  \\n17 FDIC OMWI Education Module: Building a Good Budget \\uf0a7SBA, Budgeting for the Small Business  \\n\\uf0a7www.Investopedia.com, Six Steps to a Better Business Budget  \\n\\uf0a7www.GoogoBits.com, Building a Small Business Budget from the Bottom \\nUp \\n\\uf0a7www.Essortment.com, How to Budget for a Small Business  \\n\\uf0a7www.Smallbusiness.intuit.com, Creating a Budget for Your Small Business \\n– The Basics  \\n\\uf0a7Ginny Schlosser, Pro Sidian Consulting, LLC, Why Building a Good Budget is \\nCritical to Your Success  \\n\\uf0a7Shirleen Payne, Pro Sidian Consulting, LLC, Building a Good Budget  \\n\\uf0a7Minority Business Development Agency, 10 Cost Saving Ideas for Small \\nBusiness Owners  Sources and Citations  \\n18 FDIC OMWI Education Module: Building a Good Budget '"
      ]
     },
     "execution_count": 36,
     "metadata": {},
     "output_type": "execute_result"
    }
   ],
   "source": [
    "text"
   ]
  },
  {
   "cell_type": "code",
   "execution_count": 62,
   "metadata": {},
   "outputs": [],
   "source": [
    "text_splitter = RecursiveCharacterTextSplitter(\n",
    "    chunk_size = 1000,\n",
    "    chunk_overlap  = 50,\n",
    "    length_function = len,\n",
    ")\n",
    "texts = text_splitter.split_text(text)\n",
    "### texts = text_splitter.create_documents(text)"
   ]
  },
  {
   "cell_type": "code",
   "execution_count": 60,
   "metadata": {},
   "outputs": [
    {
     "data": {
      "text/plain": [
       "['Identify your budget as a critical \\ntool in greater profitability and \\nbusiness success Building a Good Budget  \\uf0a7At the end of this module, you will be able to:  \\n–Identify the importance of building a budget as a critical tool for your success.  \\n–Use a budget to effectively manage your business. \\n–Identify best practices to create and maintain your budget. Learning Objectives \\n2 FDIC OMWI Education Module: Building a Good Budget \\uf0a7The Federal Deposit Insurance Corporation ( FDIC) recognizes the \\nimportant contributions made by small, veteran, and minority and \\nwomen -owned businesses to our economy. For that reason, we strive to \\nprovide small businesses with opportunities to contract with the FDIC. In furtherance of this goal, the FDIC has initiated the FDIC Small Business Resource Effort to assist the small vendors that provide products, services, \\nand solutions to the FDIC.  \\n\\uf0a7The objective of the Small Business Resource Effort is to provide',\n",
       " 'information and the tools small vendors need to become better positioned to compete for contracts and subcontracts at the FDIC. To achieve this objective, the Small Business Resource Effort references outside resources critical for qualified vendors, leverages technology to provide education according to perceived needs, and offers connectivity \\nthrough resourcing, accessibility, counseling, coaching, and guidance \\nwhere applicable.  \\n\\uf0a7This product was developed by the FDIC Office of Minority and Women Inclusion (OMWI). OMWI has responsibility for oversight of the Small Business Resource Effort.   About FDIC Small Business \\nResource Effort  \\n3 FDIC OMWI Education Module: Building a Good Budget \\uf0a7A business budget is a financial roadmap to success, a vision of where you \\nwant to take your business for the upcoming 12 months.  \\n\\uf0a7A budget helps you measure success; it tells you where your business is working and where it might be veering off course.',\n",
       " '\\uf0a7Best practices can help you to successfully build and maintain a budget and, ultimately, increase your company’ s profitability.  Executive Summary \\n4 FDIC OMWI Education Module: Building a Good Budget \\uf0a7A budget is a plan for revenues, expenses, and profit over a certain period \\nof time. It should be part of your overall business plan. \\n\\uf0a7Typically an annual budget is developed and broken down by quarters, months, or weeks. Software is available to help maintain your budget, e.g., Quicken or Microsoft Money.  \\n\\uf0a7A budget is your financial projection of your business (based on current assumptions) taken as a snapshot at a point in time. \\n\\uf0a7Research has shown that having a budget:  \\n–Allows you to run your business instead of your business always running you. \\n–Enables you to see if you have a cash flow or spending problem, especially if \\nyou track your costs and income daily.',\n",
       " 'you track your costs and income daily. \\n–Gives you a greater sense of control because you can better deal with financial issues as they arise.  What is a Budget? \\n5 FDIC OMWI Education Module: Building a Good Budget \\uf0a7Business budgets are “balanced, ”e.g., revenues minus expenses equals \\nprofit/net income.  \\n\\uf0a7The best budgets use the “nuts and bolts ” operational data that you deal \\nwith every day in running your business:  \\n–Revenue examples: # and size of sales, # of billable hours at average $ rates, # \\nof customers, and average $ order sizes, etc. \\n–Expense examples: # of employees at average $ hourly rates, # of materials used at average $ cost, rent/mortgage payment, and # of ad campaigns at average $ cost, etc.  \\n\\uf0a7Take into account your fixed costs (rent, overhead, loan payments, etc.) \\nversus your variable costs (labor and materials per product or service hour) to understand where your costs are, and how flexible your budget is.',\n",
       " '\\uf0a7Typically, expense budgets are more easily created than revenue budgets because your commitments are known quantities. \\n\\uf0a7Be conservative when budgeting revenues. Include a small amount of contingency for unexpected expenses to increase your chances of maintaining a positive cash flow.  \\n Budget Fundamentals (Slide 1 of 2)  \\n6 FDIC OMWI Education Module: Building a Good Budget \\uf0a7Budget your revenues on a cash basis, e.g., budget revenues in the period \\nyou will receive payment, not the period in which you performed the work or sold the goods.  \\n\\uf0a7Build your budget using the day-to -day information you use to run your \\nbusiness.  \\n\\uf0a7Use your budget regularly as a roadmap to operate your business. \\n\\uf0a7Factor in some extra padding. Having a safety net will provide some comfort during a slow week or month.',\n",
       " '\\uf0a7Share your budget with your staff. If they know what the business goals are, they can help you get there. Often the best ideas for improvements come from the people closest to the work.  Budget Fundamentals (Slide 2 of 2)  \\n7 FDIC OMWI Education Module: Building a Good Budget \\uf0a7A budget is critical for five primary reasons:  \\n1.Helps you predict cash flows and avoid surprises. \\n2.Shows your banker/investors how you plan to pay back a future loan. \\n3.Quickly highlights areas that need improvement. \\n4.Helps you keep your operations running smoothly. \\n5.Helps you project the future and take actionable steps. Why is a Budget So  \\nCritical to Your Success? \\n8 FDIC OMWI Education Module: Building a Good Budget \\uf0a7Because you build a budget from your forecasted operational data, it \\nincludes the expected ups and downs (seasonality) in your revenues and expenses.  \\n\\uf0a7A budget is especially helpful if:  \\n–You have alternating slow/busy seasons.',\n",
       " '–You have alternating slow/busy seasons. \\n–Your revenue stream comes in huge chunks followed by long periods of no \\nrevenue.  \\n–You have expenses that vary greatly month to month. \\n\\uf0a7By knowing when you will have excess cash and when you will have more \\nexpenses than cash coming in, you can plan for when your cash levels will be low.  \\n 1. Helps You Predict Cash  \\nFlows and Avoid Surprises \\n9 FDIC OMWI Education Module: Building a Good Budget \\uf0a7A budget signals to potential lenders that you have planned and know \\nwhat it will take to pay a loan back in a timely fashion.  \\n\\uf0a7A budget also gives lenders something to react to; an underwriter will compare your revenue and expense plans to industry norms to see if they are reasonable.  \\n\\uf0a7Lenders are not likely to loan you money unless you have a payback plan (i.e., a budget) backed up by reasonable facts. \\n 2. Demonstrates Loan \\nRepayment Strategy',\n",
       " '2. Demonstrates Loan \\nRepayment Strategy \\n10 FDIC OMWI Education Module: Building a Good Budget \\uf0a7Use your annual budget to compare actual revenues and expenses every \\nmonth. \\n–For large variances: either revise your estimate (both revenues and expenses) \\nor take actions to influence your company ’s performance. For example, if \\nrevenues are falling short of the budget, and you cannot raise them, then you \\nwill have to cut expenses to meet your profitability goals. \\n–For small variances: watch them over time and make sure that they do not \\nlead to a large variance or a budget miss. \\n\\uf0a7Revise your budget to take into account major changes in your business, \\nbut remember to keep it balanced. \\n \\n 3. Quickly Highlights Areas  \\nThat Need Improvement  \\n11 FDIC OMWI Education Module: Building a Good Budget \\uf0a7Because the budget is built by using operational metrics, the two should \\nalways be in sync; if you have a variance to budget, then something in your operations is driving the change.',\n",
       " '\\uf0a7If your revenues are under budget, take a look at the data you used to build the budget.  \\n\\uf0a7For a service company:  \\n–Number of services performed by type: How many are you actually performing \\neach month? How long are they taking? Has the mix changed?  \\n–Average price of service: What price are you actually charging for the service?  \\n–Assume payments are received within 30 days of the invoice: How quickly are invoices being sent? How quickly are customers sending in payments?  \\n\\uf0a7You might need to make operational adjustments such as:  \\n–Retraining staff   \\n–Adjusting pricing   \\n–Enforcing payment terms more stringently  \\n–Improving invoice processing  4. Helps You Run Your \\nOperations Smoothly \\n12 FDIC OMWI Education Module: Building a Good Budget \\uf0a7A solid budget helps you answer the following questions:  \\n–If demand for your business is growing, and you are reaching the limits of your \\nexisting staff, how do you know when to add that next employee?',\n",
       " '–If customers want more of a selection of your products, how much more inventory can you afford to carry?  \\n–If you want to offer another service at a fair price and make a decent return, but an upfront initial investment needs to be made, when is the best time to make the investment and expand your service offerings?  5. Helps You Project the  \\nFuture & Take Actionable Steps \\n13 FDIC OMWI Education Module: Building a Good Budget \\uf0a7Create manageable and meaningful categories of revenues and expenses; \\nthey should mirror how you currently track income and expense. \\n\\uf0a7Use the category size (% of the total) to decide if you should break the category down further.  \\n–Categories that are more than 50% of the total should be broken down. \\n–Categories that are less than 2% of the total should be combined with similar \\nrevenues or expenses.  \\n\\uf0a7Check your budget against your industry’s  financial information to see if',\n",
       " 'your business is in line with industry averages; if not, find out why or make \\nnecessary adjustments.  \\n Things to Keep in Mind  \\nAs You Create a Budget  \\n14 FDIC OMWI Education Module: Building a Good Budget \\uf0a7As you create your budget, look for ways to save money, such as:  \\n–Buy necessary office supplies in bulk at discount warehouses.  \\n–Purchase used office furniture. \\n–Buy locally to save on shipping. \\n–Don’t buy something just because it’s cheap. If the quality is inferior, you’ll \\nhave to spend more money eventually to replace it. \\n–Shop around for vendors/suppliers that offer the best price for the best quality. \\n–Network with other small business owners:  \\n•They may be willing to barter for services.  \\n•They may be interested in going in with you to buy bulk products. \\n–Ask vendors/suppliers for a better price. They may tell you no, but they may tell you yes, too.  \\n–Bundle services, such as phone, internet, cable/satellite, fax, web hosting.',\n",
       " 'Look for Potential Cost Savings \\n(Slide 1 of 2)  \\n15 FDIC OMWI Education Module: Building a Good Budget –Go paperless or digital and save on the cost of paper and printer cartridges. \\nAlso consider:  \\n•Paying bills online to save postage fees. \\n•Scanning documents you need to save to save physical storage fees.  \\n•Receiving email faxes to save paper and printer fees. \\n–Use cloud services to back -up your data, access your data at any location, or \\nshare data with multiple people. If cloud services are not for you, consider investing in a computer back -up system. The initial cost may be high, but it will \\nsave time and money if you don’t have to recreate your work due to a computer malfunction.  \\n–Recycle shipping boxes. \\n–Consider using social media (Twitter, Facebook, LinkedIn) for marketing your services. Be mindful that while there is no cost initially, you will need to spend considerable time maintaining these services for them to be effective.',\n",
       " 'Look for Potential Cost Savings \\n(Slide 2 of 2)  \\n16 FDIC OMWI Education Module: Building a Good Budget \\uf0a7Creating a solid budget by using key operational data you use to run your \\nbusiness will help you make crucial decisions about your business. \\n\\uf0a7Comparing your actual financial results against your budget every  week \\nand tracking the variances is extremely important.  \\n\\uf0a7Tracking and using your actual versus budget variances will help drive improvements and plans for the future. Key Takeaways from This \\nModule  \\n17 FDIC OMWI Education Module: Building a Good Budget \\uf0a7SBA, Budgeting for the Small Business  \\n\\uf0a7www.Investopedia.com, Six Steps to a Better Business Budget  \\n\\uf0a7www.GoogoBits.com, Building a Small Business Budget from the Bottom \\nUp \\n\\uf0a7www.Essortment.com, How to Budget for a Small Business  \\n\\uf0a7www.Smallbusiness.intuit.com, Creating a Budget for Your Small Business \\n– The Basics  \\n\\uf0a7Ginny Schlosser, Pro Sidian Consulting, LLC, Why Building a Good Budget is',\n",
       " 'Critical to Your Success  \\n\\uf0a7Shirleen Payne, Pro Sidian Consulting, LLC, Building a Good Budget  \\n\\uf0a7Minority Business Development Agency, 10 Cost Saving Ideas for Small \\nBusiness Owners  Sources and Citations  \\n18 FDIC OMWI Education Module: Building a Good Budget']"
      ]
     },
     "execution_count": 60,
     "metadata": {},
     "output_type": "execute_result"
    }
   ],
   "source": [
    "texts"
   ]
  },
  {
   "cell_type": "code",
   "execution_count": 66,
   "metadata": {},
   "outputs": [],
   "source": [
    "### Alternate Method\n",
    "from langchain.text_splitter import CharacterTextSplitter\n",
    "text_splitter = CharacterTextSplitter(\n",
    "    separator = \"\\n\",\n",
    "    chunk_size = 1000,\n",
    "    chunk_overlap  = 50,\n",
    "    length_function = len,\n",
    ")\n",
    "pages = text_splitter.split_text(text)\n",
    "text_splitter = RecursiveCharacterTextSplitter(chunk_size=1000, chunk_overlap=100)\n",
    "page_contents = text_splitter.create_documents(pages)\n"
   ]
  },
  {
   "cell_type": "code",
   "execution_count": 67,
   "metadata": {},
   "outputs": [
    {
     "data": {
      "text/plain": [
       "[Document(page_content='Identify your budget as a critical \\ntool in greater profitability and \\nbusiness success Building a Good Budget  \\uf0a7At the end of this module, you will be able to:  \\n–Identify the importance of building a budget as a critical tool for your success.  \\n–Use a budget to effectively manage your business. \\n–Identify best practices to create and maintain your budget. Learning Objectives \\n2 FDIC OMWI Education Module: Building a Good Budget \\uf0a7The Federal Deposit Insurance Corporation ( FDIC) recognizes the \\nimportant contributions made by small, veteran, and minority and \\nwomen -owned businesses to our economy. For that reason, we strive to \\nprovide small businesses with opportunities to contract with the FDIC. In furtherance of this goal, the FDIC has initiated the FDIC Small Business Resource Effort to assist the small vendors that provide products, services, \\nand solutions to the FDIC.  \\n\\uf0a7The objective of the Small Business Resource Effort is to provide'),\n",
       " Document(page_content='information and the tools small vendors need to become better positioned to compete for contracts and subcontracts at the FDIC. To achieve this objective, the Small Business Resource Effort references outside resources critical for qualified vendors, leverages technology to provide education according to perceived needs, and offers connectivity \\nthrough resourcing, accessibility, counseling, coaching, and guidance \\nwhere applicable.  \\n\\uf0a7This product was developed by the FDIC Office of Minority and Women Inclusion (OMWI). OMWI has responsibility for oversight of the Small Business Resource Effort.   About FDIC Small Business \\nResource Effort  \\n3 FDIC OMWI Education Module: Building a Good Budget \\uf0a7A business budget is a financial roadmap to success, a vision of where you \\nwant to take your business for the upcoming 12 months.  \\n\\uf0a7A budget helps you measure success; it tells you where your business is working and where it might be veering off course.'),\n",
       " Document(page_content='\\uf0a7Best practices can help you to successfully build and maintain a budget and, ultimately, increase your company’ s profitability.  Executive Summary \\n4 FDIC OMWI Education Module: Building a Good Budget \\uf0a7A budget is a plan for revenues, expenses, and profit over a certain period \\nof time. It should be part of your overall business plan. \\n\\uf0a7Typically an annual budget is developed and broken down by quarters, months, or weeks. Software is available to help maintain your budget, e.g., Quicken or Microsoft Money.  \\n\\uf0a7A budget is your financial projection of your business (based on current assumptions) taken as a snapshot at a point in time. \\n\\uf0a7Research has shown that having a budget:  \\n–Allows you to run your business instead of your business always running you. \\n–Enables you to see if you have a cash flow or spending problem, especially if \\nyou track your costs and income daily.'),\n",
       " Document(page_content='you track your costs and income daily. \\n–Gives you a greater sense of control because you can better deal with financial issues as they arise.  What is a Budget? \\n5 FDIC OMWI Education Module: Building a Good Budget \\uf0a7Business budgets are “balanced, ”e.g., revenues minus expenses equals \\nprofit/net income.  \\n\\uf0a7The best budgets use the “nuts and bolts ” operational data that you deal \\nwith every day in running your business:  \\n–Revenue examples: # and size of sales, # of billable hours at average $ rates, # \\nof customers, and average $ order sizes, etc. \\n–Expense examples: # of employees at average $ hourly rates, # of materials used at average $ cost, rent/mortgage payment, and # of ad campaigns at average $ cost, etc.  \\n\\uf0a7Take into account your fixed costs (rent, overhead, loan payments, etc.) \\nversus your variable costs (labor and materials per product or service hour) to understand where your costs are, and how flexible your budget is.'),\n",
       " Document(page_content='\\uf0a7Typically, expense budgets are more easily created than revenue budgets because your commitments are known quantities. \\n\\uf0a7Be conservative when budgeting revenues. Include a small amount of contingency for unexpected expenses to increase your chances of maintaining a positive cash flow.  \\n Budget Fundamentals (Slide 1 of 2)  \\n6 FDIC OMWI Education Module: Building a Good Budget \\uf0a7Budget your revenues on a cash basis, e.g., budget revenues in the period \\nyou will receive payment, not the period in which you performed the work or sold the goods.  \\n\\uf0a7Build your budget using the day-to -day information you use to run your \\nbusiness.  \\n\\uf0a7Use your budget regularly as a roadmap to operate your business. \\n\\uf0a7Factor in some extra padding. Having a safety net will provide some comfort during a slow week or month.'),\n",
       " Document(page_content='\\uf0a7Share your budget with your staff. If they know what the business goals are, they can help you get there. Often the best ideas for improvements come from the people closest to the work.  Budget Fundamentals (Slide 2 of 2)  \\n7 FDIC OMWI Education Module: Building a Good Budget \\uf0a7A budget is critical for five primary reasons:  \\n1.Helps you predict cash flows and avoid surprises. \\n2.Shows your banker/investors how you plan to pay back a future loan. \\n3.Quickly highlights areas that need improvement. \\n4.Helps you keep your operations running smoothly. \\n5.Helps you project the future and take actionable steps. Why is a Budget So  \\nCritical to Your Success? \\n8 FDIC OMWI Education Module: Building a Good Budget \\uf0a7Because you build a budget from your forecasted operational data, it \\nincludes the expected ups and downs (seasonality) in your revenues and expenses.  \\n\\uf0a7A budget is especially helpful if:  \\n–You have alternating slow/busy seasons.'),\n",
       " Document(page_content='–You have alternating slow/busy seasons. \\n–Your revenue stream comes in huge chunks followed by long periods of no \\nrevenue.  \\n–You have expenses that vary greatly month to month. \\n\\uf0a7By knowing when you will have excess cash and when you will have more \\nexpenses than cash coming in, you can plan for when your cash levels will be low.  \\n 1. Helps You Predict Cash  \\nFlows and Avoid Surprises \\n9 FDIC OMWI Education Module: Building a Good Budget \\uf0a7A budget signals to potential lenders that you have planned and know \\nwhat it will take to pay a loan back in a timely fashion.  \\n\\uf0a7A budget also gives lenders something to react to; an underwriter will compare your revenue and expense plans to industry norms to see if they are reasonable.  \\n\\uf0a7Lenders are not likely to loan you money unless you have a payback plan (i.e., a budget) backed up by reasonable facts. \\n 2. Demonstrates Loan \\nRepayment Strategy'),\n",
       " Document(page_content='2. Demonstrates Loan \\nRepayment Strategy \\n10 FDIC OMWI Education Module: Building a Good Budget \\uf0a7Use your annual budget to compare actual revenues and expenses every \\nmonth. \\n–For large variances: either revise your estimate (both revenues and expenses) \\nor take actions to influence your company ’s performance. For example, if \\nrevenues are falling short of the budget, and you cannot raise them, then you \\nwill have to cut expenses to meet your profitability goals. \\n–For small variances: watch them over time and make sure that they do not \\nlead to a large variance or a budget miss. \\n\\uf0a7Revise your budget to take into account major changes in your business, \\nbut remember to keep it balanced. \\n \\n 3. Quickly Highlights Areas  \\nThat Need Improvement  \\n11 FDIC OMWI Education Module: Building a Good Budget \\uf0a7Because the budget is built by using operational metrics, the two should \\nalways be in sync; if you have a variance to budget, then something in your operations is driving the change.'),\n",
       " Document(page_content='\\uf0a7If your revenues are under budget, take a look at the data you used to build the budget.  \\n\\uf0a7For a service company:  \\n–Number of services performed by type: How many are you actually performing \\neach month? How long are they taking? Has the mix changed?  \\n–Average price of service: What price are you actually charging for the service?  \\n–Assume payments are received within 30 days of the invoice: How quickly are invoices being sent? How quickly are customers sending in payments?  \\n\\uf0a7You might need to make operational adjustments such as:  \\n–Retraining staff   \\n–Adjusting pricing   \\n–Enforcing payment terms more stringently  \\n–Improving invoice processing  4. Helps You Run Your \\nOperations Smoothly \\n12 FDIC OMWI Education Module: Building a Good Budget \\uf0a7A solid budget helps you answer the following questions:  \\n–If demand for your business is growing, and you are reaching the limits of your \\nexisting staff, how do you know when to add that next employee?'),\n",
       " Document(page_content='–If customers want more of a selection of your products, how much more inventory can you afford to carry?  \\n–If you want to offer another service at a fair price and make a decent return, but an upfront initial investment needs to be made, when is the best time to make the investment and expand your service offerings?  5. Helps You Project the  \\nFuture & Take Actionable Steps \\n13 FDIC OMWI Education Module: Building a Good Budget \\uf0a7Create manageable and meaningful categories of revenues and expenses; \\nthey should mirror how you currently track income and expense. \\n\\uf0a7Use the category size (% of the total) to decide if you should break the category down further.  \\n–Categories that are more than 50% of the total should be broken down. \\n–Categories that are less than 2% of the total should be combined with similar \\nrevenues or expenses.  \\n\\uf0a7Check your budget against your industry’s  financial information to see if \\nyour business is in line with industry averages; if not, find out why or make'),\n",
       " Document(page_content='necessary adjustments.  \\n Things to Keep in Mind  \\nAs You Create a Budget  \\n14 FDIC OMWI Education Module: Building a Good Budget \\uf0a7As you create your budget, look for ways to save money, such as:  \\n–Buy necessary office supplies in bulk at discount warehouses.  \\n–Purchase used office furniture. \\n–Buy locally to save on shipping. \\n–Don’t buy something just because it’s cheap. If the quality is inferior, you’ll \\nhave to spend more money eventually to replace it. \\n–Shop around for vendors/suppliers that offer the best price for the best quality. \\n–Network with other small business owners:  \\n•They may be willing to barter for services.  \\n•They may be interested in going in with you to buy bulk products. \\n–Ask vendors/suppliers for a better price. They may tell you no, but they may tell you yes, too.  \\n–Bundle services, such as phone, internet, cable/satellite, fax, web hosting. \\n Look for Potential Cost Savings \\n(Slide 1 of 2)'),\n",
       " Document(page_content='Look for Potential Cost Savings \\n(Slide 1 of 2)  \\n15 FDIC OMWI Education Module: Building a Good Budget –Go paperless or digital and save on the cost of paper and printer cartridges. \\nAlso consider:  \\n•Paying bills online to save postage fees. \\n•Scanning documents you need to save to save physical storage fees.  \\n•Receiving email faxes to save paper and printer fees. \\n–Use cloud services to back -up your data, access your data at any location, or \\nshare data with multiple people. If cloud services are not for you, consider investing in a computer back -up system. The initial cost may be high, but it will \\nsave time and money if you don’t have to recreate your work due to a computer malfunction.  \\n–Recycle shipping boxes. \\n–Consider using social media (Twitter, Facebook, LinkedIn) for marketing your services. Be mindful that while there is no cost initially, you will need to spend considerable time maintaining these services for them to be effective.'),\n",
       " Document(page_content='Look for Potential Cost Savings \\n(Slide 2 of 2)  \\n16 FDIC OMWI Education Module: Building a Good Budget \\uf0a7Creating a solid budget by using key operational data you use to run your \\nbusiness will help you make crucial decisions about your business. \\n\\uf0a7Comparing your actual financial results against your budget every  week \\nand tracking the variances is extremely important.  \\n\\uf0a7Tracking and using your actual versus budget variances will help drive improvements and plans for the future. Key Takeaways from This \\nModule  \\n17 FDIC OMWI Education Module: Building a Good Budget \\uf0a7SBA, Budgeting for the Small Business  \\n\\uf0a7www.Investopedia.com, Six Steps to a Better Business Budget  \\n\\uf0a7www.GoogoBits.com, Building a Small Business Budget from the Bottom \\nUp \\n\\uf0a7www.Essortment.com, How to Budget for a Small Business  \\n\\uf0a7www.Smallbusiness.intuit.com, Creating a Budget for Your Small Business \\n– The Basics  \\n\\uf0a7Ginny Schlosser, Pro Sidian Consulting, LLC, Why Building a Good Budget is'),\n",
       " Document(page_content='Critical to Your Success  \\n\\uf0a7Shirleen Payne, Pro Sidian Consulting, LLC, Building a Good Budget  \\n\\uf0a7Minority Business Development Agency, 10 Cost Saving Ideas for Small \\nBusiness Owners  Sources and Citations  \\n18 FDIC OMWI Education Module: Building a Good Budget')]"
      ]
     },
     "execution_count": 67,
     "metadata": {},
     "output_type": "execute_result"
    }
   ],
   "source": [
    "page_contents"
   ]
  },
  {
   "cell_type": "code",
   "execution_count": 68,
   "metadata": {},
   "outputs": [],
   "source": [
    " db = FAISS.from_documents(page_contents, embeddings)"
   ]
  },
  {
   "cell_type": "code",
   "execution_count": 71,
   "metadata": {},
   "outputs": [],
   "source": [
    "query = \"What did the document say 10 words?\"\n",
    "docs = db.similarity_search(query)"
   ]
  },
  {
   "cell_type": "code",
   "execution_count": 72,
   "metadata": {},
   "outputs": [
    {
     "data": {
      "text/plain": [
       "[Document(page_content='Look for Potential Cost Savings \\n(Slide 1 of 2)  \\n15 FDIC OMWI Education Module: Building a Good Budget –Go paperless or digital and save on the cost of paper and printer cartridges. \\nAlso consider:  \\n•Paying bills online to save postage fees. \\n•Scanning documents you need to save to save physical storage fees.  \\n•Receiving email faxes to save paper and printer fees. \\n–Use cloud services to back -up your data, access your data at any location, or \\nshare data with multiple people. If cloud services are not for you, consider investing in a computer back -up system. The initial cost may be high, but it will \\nsave time and money if you don’t have to recreate your work due to a computer malfunction.  \\n–Recycle shipping boxes. \\n–Consider using social media (Twitter, Facebook, LinkedIn) for marketing your services. Be mindful that while there is no cost initially, you will need to spend considerable time maintaining these services for them to be effective.'),\n",
       " Document(page_content='Critical to Your Success  \\n\\uf0a7Shirleen Payne, Pro Sidian Consulting, LLC, Building a Good Budget  \\n\\uf0a7Minority Business Development Agency, 10 Cost Saving Ideas for Small \\nBusiness Owners  Sources and Citations  \\n18 FDIC OMWI Education Module: Building a Good Budget'),\n",
       " Document(page_content='information and the tools small vendors need to become better positioned to compete for contracts and subcontracts at the FDIC. To achieve this objective, the Small Business Resource Effort references outside resources critical for qualified vendors, leverages technology to provide education according to perceived needs, and offers connectivity \\nthrough resourcing, accessibility, counseling, coaching, and guidance \\nwhere applicable.  \\n\\uf0a7This product was developed by the FDIC Office of Minority and Women Inclusion (OMWI). OMWI has responsibility for oversight of the Small Business Resource Effort.   About FDIC Small Business \\nResource Effort  \\n3 FDIC OMWI Education Module: Building a Good Budget \\uf0a7A business budget is a financial roadmap to success, a vision of where you \\nwant to take your business for the upcoming 12 months.  \\n\\uf0a7A budget helps you measure success; it tells you where your business is working and where it might be veering off course.'),\n",
       " Document(page_content='2. Demonstrates Loan \\nRepayment Strategy \\n10 FDIC OMWI Education Module: Building a Good Budget \\uf0a7Use your annual budget to compare actual revenues and expenses every \\nmonth. \\n–For large variances: either revise your estimate (both revenues and expenses) \\nor take actions to influence your company ’s performance. For example, if \\nrevenues are falling short of the budget, and you cannot raise them, then you \\nwill have to cut expenses to meet your profitability goals. \\n–For small variances: watch them over time and make sure that they do not \\nlead to a large variance or a budget miss. \\n\\uf0a7Revise your budget to take into account major changes in your business, \\nbut remember to keep it balanced. \\n \\n 3. Quickly Highlights Areas  \\nThat Need Improvement  \\n11 FDIC OMWI Education Module: Building a Good Budget \\uf0a7Because the budget is built by using operational metrics, the two should \\nalways be in sync; if you have a variance to budget, then something in your operations is driving the change.')]"
      ]
     },
     "execution_count": 72,
     "metadata": {},
     "output_type": "execute_result"
    }
   ],
   "source": [
    "docs"
   ]
  },
  {
   "cell_type": "code",
   "execution_count": 75,
   "metadata": {},
   "outputs": [],
   "source": [
    "from langchain.text_splitter import CharacterTextSplitter\n",
    "\n",
    "def create_db_from_pdf(pdf_file: str) -> FAISS:\n",
    "\n",
    "    text = \"\"\n",
    "    reader = PdfReader(pdf_file)\n",
    "    for i, page in enumerate(reader.pages):\n",
    "        content = page.extract_text()\n",
    "        if content:\n",
    "            text += content\n",
    "            #print(i)\n",
    "\n",
    "\n",
    "    text_splitter = CharacterTextSplitter(\n",
    "    separator = \"\\n\",\n",
    "    chunk_size = 1000,\n",
    "    chunk_overlap  = 50,\n",
    "    length_function = len,\n",
    "    )\n",
    "    pages = text_splitter.split_text(text)\n",
    "    text_splitter = RecursiveCharacterTextSplitter(chunk_size=1000, chunk_overlap=100)\n",
    "    page_contents = text_splitter.create_documents(pages)\n",
    "\n",
    "    db = FAISS.from_documents(page_contents, embeddings)\n",
    "    return db\n",
    "\n"
   ]
  },
  {
   "cell_type": "code",
   "execution_count": 76,
   "metadata": {},
   "outputs": [],
   "source": [
    "data = create_db_from_pdf(\"D:\\youtube\\langchain\\FDIO.pdf\")"
   ]
  },
  {
   "cell_type": "code",
   "execution_count": 77,
   "metadata": {},
   "outputs": [
    {
     "data": {
      "text/plain": [
       "[Document(page_content='Critical to Your Success  \\n\\uf0a7Shirleen Payne, Pro Sidian Consulting, LLC, Building a Good Budget  \\n\\uf0a7Minority Business Development Agency, 10 Cost Saving Ideas for Small \\nBusiness Owners  Sources and Citations  \\n18 FDIC OMWI Education Module: Building a Good Budget'),\n",
       " Document(page_content='\\uf0a7If your revenues are under budget, take a look at the data you used to build the budget.  \\n\\uf0a7For a service company:  \\n–Number of services performed by type: How many are you actually performing \\neach month? How long are they taking? Has the mix changed?  \\n–Average price of service: What price are you actually charging for the service?  \\n–Assume payments are received within 30 days of the invoice: How quickly are invoices being sent? How quickly are customers sending in payments?  \\n\\uf0a7You might need to make operational adjustments such as:  \\n–Retraining staff   \\n–Adjusting pricing   \\n–Enforcing payment terms more stringently  \\n–Improving invoice processing  4. Helps You Run Your \\nOperations Smoothly \\n12 FDIC OMWI Education Module: Building a Good Budget \\uf0a7A solid budget helps you answer the following questions:  \\n–If demand for your business is growing, and you are reaching the limits of your \\nexisting staff, how do you know when to add that next employee?'),\n",
       " Document(page_content='information and the tools small vendors need to become better positioned to compete for contracts and subcontracts at the FDIC. To achieve this objective, the Small Business Resource Effort references outside resources critical for qualified vendors, leverages technology to provide education according to perceived needs, and offers connectivity \\nthrough resourcing, accessibility, counseling, coaching, and guidance \\nwhere applicable.  \\n\\uf0a7This product was developed by the FDIC Office of Minority and Women Inclusion (OMWI). OMWI has responsibility for oversight of the Small Business Resource Effort.   About FDIC Small Business \\nResource Effort  \\n3 FDIC OMWI Education Module: Building a Good Budget \\uf0a7A business budget is a financial roadmap to success, a vision of where you \\nwant to take your business for the upcoming 12 months.  \\n\\uf0a7A budget helps you measure success; it tells you where your business is working and where it might be veering off course.'),\n",
       " Document(page_content='Look for Potential Cost Savings \\n(Slide 1 of 2)  \\n15 FDIC OMWI Education Module: Building a Good Budget –Go paperless or digital and save on the cost of paper and printer cartridges. \\nAlso consider:  \\n•Paying bills online to save postage fees. \\n•Scanning documents you need to save to save physical storage fees.  \\n•Receiving email faxes to save paper and printer fees. \\n–Use cloud services to back -up your data, access your data at any location, or \\nshare data with multiple people. If cloud services are not for you, consider investing in a computer back -up system. The initial cost may be high, but it will \\nsave time and money if you don’t have to recreate your work due to a computer malfunction.  \\n–Recycle shipping boxes. \\n–Consider using social media (Twitter, Facebook, LinkedIn) for marketing your services. Be mindful that while there is no cost initially, you will need to spend considerable time maintaining these services for them to be effective.')]"
      ]
     },
     "execution_count": 77,
     "metadata": {},
     "output_type": "execute_result"
    }
   ],
   "source": [
    "query = \"What is sidian consultang do?\"\n",
    "docs = data.similarity_search(query)\n",
    "docs"
   ]
  },
  {
   "cell_type": "code",
   "execution_count": 78,
   "metadata": {},
   "outputs": [
    {
     "data": {
      "text/plain": [
       "'Critical to Your Success  \\n\\uf0a7Shirleen Payne, Pro Sidian Consulting, LLC, Building a Good Budget  \\n\\uf0a7Minority Business Development Agency, 10 Cost Saving Ideas for Small \\nBusiness Owners  Sources and Citations  \\n18 FDIC OMWI Education Module: Building a Good Budget \\uf0a7If your revenues are under budget, take a look at the data you used to build the budget.  \\n\\uf0a7For a service company:  \\n–Number of services performed by type: How many are you actually performing \\neach month? How long are they taking? Has the mix changed?  \\n–Average price of service: What price are you actually charging for the service?  \\n–Assume payments are received within 30 days of the invoice: How quickly are invoices being sent? How quickly are customers sending in payments?  \\n\\uf0a7You might need to make operational adjustments such as:  \\n–Retraining staff   \\n–Adjusting pricing   \\n–Enforcing payment terms more stringently  \\n–Improving invoice processing  4. Helps You Run Your \\nOperations Smoothly \\n12 FDIC OMWI Education Module: Building a Good Budget \\uf0a7A solid budget helps you answer the following questions:  \\n–If demand for your business is growing, and you are reaching the limits of your \\nexisting staff, how do you know when to add that next employee? information and the tools small vendors need to become better positioned to compete for contracts and subcontracts at the FDIC. To achieve this objective, the Small Business Resource Effort references outside resources critical for qualified vendors, leverages technology to provide education according to perceived needs, and offers connectivity \\nthrough resourcing, accessibility, counseling, coaching, and guidance \\nwhere applicable.  \\n\\uf0a7This product was developed by the FDIC Office of Minority and Women Inclusion (OMWI). OMWI has responsibility for oversight of the Small Business Resource Effort.   About FDIC Small Business \\nResource Effort  \\n3 FDIC OMWI Education Module: Building a Good Budget \\uf0a7A business budget is a financial roadmap to success, a vision of where you \\nwant to take your business for the upcoming 12 months.  \\n\\uf0a7A budget helps you measure success; it tells you where your business is working and where it might be veering off course. Look for Potential Cost Savings \\n(Slide 1 of 2)  \\n15 FDIC OMWI Education Module: Building a Good Budget –Go paperless or digital and save on the cost of paper and printer cartridges. \\nAlso consider:  \\n•Paying bills online to save postage fees. \\n•Scanning documents you need to save to save physical storage fees.  \\n•Receiving email faxes to save paper and printer fees. \\n–Use cloud services to back -up your data, access your data at any location, or \\nshare data with multiple people. If cloud services are not for you, consider investing in a computer back -up system. The initial cost may be high, but it will \\nsave time and money if you don’t have to recreate your work due to a computer malfunction.  \\n–Recycle shipping boxes. \\n–Consider using social media (Twitter, Facebook, LinkedIn) for marketing your services. Be mindful that while there is no cost initially, you will need to spend considerable time maintaining these services for them to be effective.'"
      ]
     },
     "execution_count": 78,
     "metadata": {},
     "output_type": "execute_result"
    }
   ],
   "source": [
    "query = \"What is sidian consultang do?\"\n",
    "docs = data.similarity_search(query, 4)\n",
    "docs_page_content = \" \".join([d.page_content for d in docs]) \n",
    "docs_page_content"
   ]
  },
  {
   "cell_type": "code",
   "execution_count": 79,
   "metadata": {},
   "outputs": [
    {
     "data": {
      "text/plain": [
       "'Look for Potential Cost Savings \\n(Slide 1 of 2)  \\n15 FDIC OMWI Education Module: Building a Good Budget –Go paperless or digital and save on the cost of paper and printer cartridges. \\nAlso consider:  \\n•Paying bills online to save postage fees. \\n•Scanning documents you need to save to save physical storage fees.  \\n•Receiving email faxes to save paper and printer fees. \\n–Use cloud services to back -up your data, access your data at any location, or \\nshare data with multiple people. If cloud services are not for you, consider investing in a computer back -up system. The initial cost may be high, but it will \\nsave time and money if you don’t have to recreate your work due to a computer malfunction.  \\n–Recycle shipping boxes. \\n–Consider using social media (Twitter, Facebook, LinkedIn) for marketing your services. Be mindful that while there is no cost initially, you will need to spend considerable time maintaining these services for them to be effective. Critical to Your Success  \\n\\uf0a7Shirleen Payne, Pro Sidian Consulting, LLC, Building a Good Budget  \\n\\uf0a7Minority Business Development Agency, 10 Cost Saving Ideas for Small \\nBusiness Owners  Sources and Citations  \\n18 FDIC OMWI Education Module: Building a Good Budget information and the tools small vendors need to become better positioned to compete for contracts and subcontracts at the FDIC. To achieve this objective, the Small Business Resource Effort references outside resources critical for qualified vendors, leverages technology to provide education according to perceived needs, and offers connectivity \\nthrough resourcing, accessibility, counseling, coaching, and guidance \\nwhere applicable.  \\n\\uf0a7This product was developed by the FDIC Office of Minority and Women Inclusion (OMWI). OMWI has responsibility for oversight of the Small Business Resource Effort.   About FDIC Small Business \\nResource Effort  \\n3 FDIC OMWI Education Module: Building a Good Budget \\uf0a7A business budget is a financial roadmap to success, a vision of where you \\nwant to take your business for the upcoming 12 months.  \\n\\uf0a7A budget helps you measure success; it tells you where your business is working and where it might be veering off course. \\uf0a7Best practices can help you to successfully build and maintain a budget and, ultimately, increase your company’ s profitability.  Executive Summary \\n4 FDIC OMWI Education Module: Building a Good Budget \\uf0a7A budget is a plan for revenues, expenses, and profit over a certain period \\nof time. It should be part of your overall business plan. \\n\\uf0a7Typically an annual budget is developed and broken down by quarters, months, or weeks. Software is available to help maintain your budget, e.g., Quicken or Microsoft Money.  \\n\\uf0a7A budget is your financial projection of your business (based on current assumptions) taken as a snapshot at a point in time. \\n\\uf0a7Research has shown that having a budget:  \\n–Allows you to run your business instead of your business always running you. \\n–Enables you to see if you have a cash flow or spending problem, especially if \\nyou track your costs and income daily.'"
      ]
     },
     "execution_count": 79,
     "metadata": {},
     "output_type": "execute_result"
    }
   ],
   "source": [
    "query = \"What did the document say?\"\n",
    "docs = data.similarity_search(query, 4)\n",
    "docs_page_content = \" \".join([d.page_content for d in docs]) \n",
    "docs_page_content"
   ]
  },
  {
   "cell_type": "code",
   "execution_count": null,
   "metadata": {},
   "outputs": [],
   "source": []
  }
 ],
 "metadata": {
  "kernelspec": {
   "display_name": "Python 3",
   "language": "python",
   "name": "python3"
  },
  "language_info": {
   "codemirror_mode": {
    "name": "ipython",
    "version": 3
   },
   "file_extension": ".py",
   "mimetype": "text/x-python",
   "name": "python",
   "nbconvert_exporter": "python",
   "pygments_lexer": "ipython3",
   "version": "3.11.7"
  }
 },
 "nbformat": 4,
 "nbformat_minor": 2
}
